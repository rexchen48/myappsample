{
 "cells": [
  {
   "cell_type": "markdown",
   "metadata": {},
   "source": [
    "# Quick Reference\n",
    "- ### [Markdown](#markdown)\n",
    "- ### Python\n",
    "- ### [Pandas](#pandas)\n",
    "- ### ML\n",
    "- ### Modules"
   ]
  },
  {
   "cell_type": "markdown",
   "metadata": {},
   "source": [
    "# <a id='markdown'><font color=red>**Markdown**</font></a>\n",
    "\n",
    "https://medium.com/@ingeh/markdown-for-jupyter-notebooks-cheatsheet-386c05aeebed"
   ]
  },
  {
   "cell_type": "markdown",
   "metadata": {},
   "source": [
    "\n",
    "**# title**<br>\n",
    "**## major headings**<br>\n",
    "**### subheadings**<br>\n",
    "**#### 4th level subheadings**<br>\n",
    "**Emphasis**: Use this code: Bold: __string__ or **string** Italic: _string_ or *string*<br>\n",
    "**Mathematical symbols**: Use this code: $ mathematical symbols $<br>\n",
    "**Monospace font**: Surround text with a back single quotation mark. (`) Use monospace for file path and file names and for text users enter or message text users see.<br>\n",
    "**Line breaks**: Sometimes markdown doesn’t make line breaks when you want them. Use 2 spaces or this code for a manual line break: <br>\n",
    "**Colors**: Use this code: <font color=blue>**Text**</font> Not all markdown code works within a font tag, so review your colored text carefully!<br>\n",
    "**Indented quoting**: Use a greater than sign (>) and then a space, then type the text. The text is indented and has a gray horizontal line to the left of it until the next carriage return.\n",
    "**Bullets**: Use the dash sign (- ) with a space after it, or a space, a dash, and a space ( - ), to create a circular bullet.<br>\n",
    "To create a sub bullet, use a tab followed a dash and a space. You can also use an asterisk instead of a dash, and it works the same.<br>\n",
    "**Numbered lists**: Start with 1. followed by a space, then it starts numbering for you. Start each line with some number and a period, then a space. Tab to indent to get subnumbering.\n",
    "**Graphics**: You can attach image files directly to a notebook only in Markdown cells. Drag and drop your images to the Mardown cell to attach it to the notebook. Use this code: <img src=\"abc.png\" alt=\"Alt text that describes the graphic\" title=\"Title text\" /><br>\n",
    "**Horizontal lines**: Use three asterisks: ***<br>\n",
    "**Internal links**: start with [section title](#section_ID), then use this code for destination: <a id=\"section_ID\"></a>.\n",
    "**External links**: Use this code and test all links! [link text](http://url)<br>\n"
   ]
  },
  {
   "cell_type": "markdown",
   "metadata": {},
   "source": [
    "# <a id='pandas'><font color=red>**Pandas**</font></a>"
   ]
  },
  {
   "cell_type": "code",
   "execution_count": null,
   "metadata": {},
   "outputs": [],
   "source": []
  }
 ],
 "metadata": {
  "kernelspec": {
   "display_name": "Python 3",
   "language": "python",
   "name": "python3"
  },
  "language_info": {
   "name": ""
  }
 },
 "nbformat": 4,
 "nbformat_minor": 4
}
